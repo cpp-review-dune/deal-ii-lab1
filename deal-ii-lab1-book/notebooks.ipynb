{
 "cells": [
  {
   "cell_type": "markdown",
   "id": "cc9daa46",
   "metadata": {},
   "source": [
    "# deal.II Lab 1"
   ]
  },
  {
   "cell_type": "code",
   "execution_count": 1,
   "id": "7e96e492-772d-48c9-953d-8214b4e49756",
   "metadata": {
    "vscode": {
     "languageId": "c++"
    }
   },
   "outputs": [],
   "source": [
    "#pragma cling load(\"libdeal_II.so\")"
   ]
  },
  {
   "cell_type": "code",
   "execution_count": 2,
   "id": "41bc6c56-d570-4591-a522-fa820206247f",
   "metadata": {
    "vscode": {
     "languageId": "c++"
    }
   },
   "outputs": [],
   "source": [
    "#pragma cling add_include_path(\"/opt/petsc/linux-c-opt/include\")\n",
    "#pragma cling add_library_path(\"/opt/petsc/linux-c-opt/lib/\")"
   ]
  },
  {
   "cell_type": "code",
   "execution_count": 3,
   "id": "feb15a32-99dd-4506-a39d-c19848344cbb",
   "metadata": {
    "vscode": {
     "languageId": "c++"
    }
   },
   "outputs": [],
   "source": [
    "#include <deal.II/base/point.h>"
   ]
  },
  {
   "cell_type": "code",
   "execution_count": 4,
   "id": "cc65c539-b02d-449b-97ee-a077c4b5134f",
   "metadata": {
    "vscode": {
     "languageId": "c++"
    }
   },
   "outputs": [],
   "source": [
    "// #include <deal.II/lac/la_vector.h>"
   ]
  },
  {
   "cell_type": "code",
   "execution_count": 5,
   "id": "25c94ce9-3e29-473c-9539-0588b3cf4d7a",
   "metadata": {
    "vscode": {
     "languageId": "c++"
    }
   },
   "outputs": [],
   "source": [
    "dealii::Point<2> x(3, 4);"
   ]
  },
  {
   "cell_type": "code",
   "execution_count": 6,
   "id": "c1615daf-e41e-44a8-8200-c6b8bd26d180",
   "metadata": {
    "vscode": {
     "languageId": "c++"
    }
   },
   "outputs": [
    {
     "name": "stdout",
     "output_type": "stream",
     "text": [
      "3 4\n"
     ]
    },
    {
     "data": {
      "text/plain": [
       "@0x7f41ae5834c0"
      ]
     },
     "execution_count": 6,
     "metadata": {},
     "output_type": "execute_result"
    }
   ],
   "source": [
    "std::cout << x << std::endl"
   ]
  },
  {
   "cell_type": "code",
   "execution_count": 7,
   "id": "ccce006e-b54f-4e1d-acb7-c22921ac7f45",
   "metadata": {
    "vscode": {
     "languageId": "c++"
    }
   },
   "outputs": [
    {
     "data": {
      "text/plain": [
       "5.0000000"
      ]
     },
     "execution_count": 7,
     "metadata": {},
     "output_type": "execute_result"
    }
   ],
   "source": [
    "x.norm()"
   ]
  },
  {
   "cell_type": "code",
   "execution_count": 8,
   "id": "9d03749b-2540-4f91-9c7c-464a81fa422d",
   "metadata": {
    "vscode": {
     "languageId": "c++"
    }
   },
   "outputs": [],
   "source": [
    "dealii::Point<2> x(4, 5);\n",
    "dealii::Point<2> y(1, 1);"
   ]
  },
  {
   "cell_type": "code",
   "execution_count": 9,
   "id": "b2c83c50-9d15-4bcf-9867-619ffb031b4e",
   "metadata": {
    "vscode": {
     "languageId": "c++"
    }
   },
   "outputs": [
    {
     "data": {
      "text/plain": [
       "5.0000000"
      ]
     },
     "execution_count": 9,
     "metadata": {},
     "output_type": "execute_result"
    }
   ],
   "source": [
    "x.distance(y)"
   ]
  },
  {
   "cell_type": "code",
   "execution_count": 10,
   "id": "49838f05-b7b8-47ef-8554-8a0323a47ff2",
   "metadata": {
    "vscode": {
     "languageId": "c++"
    }
   },
   "outputs": [],
   "source": [
    "dealii::Point<2> x(3, 4);"
   ]
  },
  {
   "cell_type": "code",
   "execution_count": 11,
   "id": "ba0ace5c-57eb-4df9-a647-dc48340af794",
   "metadata": {
    "vscode": {
     "languageId": "c++"
    }
   },
   "outputs": [
    {
     "data": {
      "text/plain": [
       "25.000000"
      ]
     },
     "execution_count": 11,
     "metadata": {},
     "output_type": "execute_result"
    }
   ],
   "source": [
    "x * x"
   ]
  },
  {
   "cell_type": "code",
   "execution_count": 12,
   "id": "ddad50d6-b91a-4111-8560-d1b2abb72bb3",
   "metadata": {
    "vscode": {
     "languageId": "c++"
    }
   },
   "outputs": [],
   "source": [
    "dealii::Point<3> x(3, 4, 0);"
   ]
  },
  {
   "cell_type": "code",
   "execution_count": 13,
   "id": "82e45b7c-3bcc-4ac4-bcb9-f2c75b40473c",
   "metadata": {
    "vscode": {
     "languageId": "c++"
    }
   },
   "outputs": [
    {
     "data": {
      "text/plain": [
       "5.0000000"
      ]
     },
     "execution_count": 13,
     "metadata": {},
     "output_type": "execute_result"
    }
   ],
   "source": [
    "x.norm()"
   ]
  },
  {
   "cell_type": "code",
   "execution_count": 14,
   "id": "7299f114-17f8-4149-a653-0931e2c3a755",
   "metadata": {
    "vscode": {
     "languageId": "c++"
    }
   },
   "outputs": [],
   "source": [
    "dealii::Point<3> x(4, 5, 2);\n",
    "dealii::Point<3> y(1, 1, -1);"
   ]
  },
  {
   "cell_type": "code",
   "execution_count": 15,
   "id": "ecadc14c-765d-478a-93b6-63ef90785b4a",
   "metadata": {
    "vscode": {
     "languageId": "c++"
    }
   },
   "outputs": [
    {
     "data": {
      "text/plain": [
       "5.8309519"
      ]
     },
     "execution_count": 15,
     "metadata": {},
     "output_type": "execute_result"
    }
   ],
   "source": [
    "x.distance(y)"
   ]
  },
  {
   "cell_type": "code",
   "execution_count": 16,
   "id": "69bdeece-63cc-4c60-a944-afb09774c8e1",
   "metadata": {
    "vscode": {
     "languageId": "c++"
    }
   },
   "outputs": [],
   "source": [
    "dealii::Point<3> x(3, 4, 5);"
   ]
  },
  {
   "cell_type": "code",
   "execution_count": 17,
   "id": "0a6d2748-ca2c-4ff1-bae0-7bc33ca0033b",
   "metadata": {
    "vscode": {
     "languageId": "c++"
    }
   },
   "outputs": [
    {
     "data": {
      "text/plain": [
       "50.000000"
      ]
     },
     "execution_count": 17,
     "metadata": {},
     "output_type": "execute_result"
    }
   ],
   "source": [
    "x * x"
   ]
  }
 ],
 "metadata": {
  "kernelspec": {
   "display_name": "C++17 (xeus)",
   "language": "C++17",
   "name": "xcpp17"
  },
  "language_info": {
   "codemirror_mode": "text/x-c++src",
   "file_extension": ".cpp",
   "mimetype": "text/x-c++src",
   "name": "C++17",
   "version": "17"
  }
 },
 "nbformat": 4,
 "nbformat_minor": 5
}
